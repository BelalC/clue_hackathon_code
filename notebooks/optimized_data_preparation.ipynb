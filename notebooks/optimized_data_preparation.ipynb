{
 "cells": [
  {
   "cell_type": "code",
   "execution_count": 1,
   "metadata": {
    "ExecuteTime": {
     "end_time": "2017-03-21T18:01:54.667469",
     "start_time": "2017-03-21T18:01:54.485903"
    },
    "collapsed": true,
    "run_control": {
     "frozen": false,
     "read_only": false
    }
   },
   "outputs": [],
   "source": [
    "import joblib\n",
    "import warnings\n",
    "warnings.filterwarnings('ignore')"
   ]
  },
  {
   "cell_type": "code",
   "execution_count": 2,
   "metadata": {
    "ExecuteTime": {
     "end_time": "2017-03-21T18:02:01.290864",
     "start_time": "2017-03-21T18:01:54.669724"
    },
    "collapsed": false,
    "run_control": {
     "frozen": false,
     "read_only": false
    }
   },
   "outputs": [],
   "source": [
    "%run ../prepare_data.py -N_users 0"
   ]
  },
  {
   "cell_type": "code",
   "execution_count": 3,
   "metadata": {
    "ExecuteTime": {
     "end_time": "2017-03-21T18:02:02.122275",
     "start_time": "2017-03-21T18:02:01.292792"
    },
    "collapsed": true,
    "run_control": {
     "frozen": false,
     "read_only": false
    }
   },
   "outputs": [],
   "source": [
    "# Expand cycles so that there is a line per date (active or not) with a boolean indicator of period\n",
    "try:\n",
    "    cycles_processed = joblib.load(\"../data/cycles_processed.pkl.gz\")\n",
    "except:\n",
    "    cycles_processed = pd.concat([expand_cycle(cycle) for _, cycle in cycles.iterrows()])\n",
    "    joblib.dump(cycles_processed, \"../data/cycles_processed.pkl.gz\")"
   ]
  },
  {
   "cell_type": "code",
   "execution_count": 4,
   "metadata": {
    "ExecuteTime": {
     "end_time": "2017-03-21T18:02:04.221372",
     "start_time": "2017-03-21T18:02:02.124060"
    },
    "collapsed": true,
    "run_control": {
     "frozen": false,
     "read_only": false
    }
   },
   "outputs": [],
   "source": [
    "# One hot encode the symptoms\n",
    "tracking_processed = pd.get_dummies(\n",
    "    tracking[[\"user_id\", \"date\", \"symptom\"]],\n",
    "    columns=['symptom'], prefix='', prefix_sep=''\n",
    ")"
   ]
  },
  {
   "cell_type": "code",
   "execution_count": 5,
   "metadata": {
    "ExecuteTime": {
     "end_time": "2017-03-21T18:03:03.362610",
     "start_time": "2017-03-21T18:02:04.223369"
    },
    "collapsed": false,
    "run_control": {
     "frozen": false,
     "read_only": false
    }
   },
   "outputs": [],
   "source": [
    "# Aggregate symptoms per day\n",
    "tracking_processed = tracking_processed.groupby(['user_id', 'date']).sum()[list_of_symptoms]\n",
    "training = pd.merge(cycles_processed, tracking_processed, left_index=True, right_index=True, how='outer').fillna(0)"
   ]
  },
  {
   "cell_type": "code",
   "execution_count": 6,
   "metadata": {
    "ExecuteTime": {
     "end_time": "2017-03-21T18:03:04.216398",
     "start_time": "2017-03-21T18:03:03.364394"
    },
    "collapsed": false,
    "run_control": {
     "frozen": false,
     "read_only": false
    },
    "scrolled": true
   },
   "outputs": [],
   "source": [
    "# Find the first day the user started using the app\n",
    "training = pd.merge(\n",
    "    training,\n",
    "    cycles.groupby('user_id').agg({'cycle_start': {'first_use': 'min'}}).reset_index().set_index('user_id')['cycle_start'],\n",
    "    left_index=True, right_index=True\n",
    ")"
   ]
  },
  {
   "cell_type": "code",
   "execution_count": 7,
   "metadata": {
    "ExecuteTime": {
     "end_time": "2017-03-21T18:04:49.660166",
     "start_time": "2017-03-21T18:03:04.218134"
    },
    "collapsed": true,
    "run_control": {
     "frozen": false,
     "read_only": false
    }
   },
   "outputs": [],
   "source": [
    "# Find the absolute day for each row from the day the user started using the app\n",
    "absolute_day = (training.reset_index().date.dt.date - training.reset_index().first_use.dt.date).dt.days + 1\n",
    "absolute_day.index = training.index\n",
    "training['absolute_day'] = absolute_day\n",
    "# Won't need this column anymore\n",
    "training = training.drop('first_use', axis=1)"
   ]
  },
  {
   "cell_type": "code",
   "execution_count": 8,
   "metadata": {
    "ExecuteTime": {
     "end_time": "2017-03-21T18:04:50.408230",
     "start_time": "2017-03-21T18:04:49.661596"
    },
    "collapsed": true,
    "run_control": {
     "frozen": false,
     "read_only": false
    }
   },
   "outputs": [],
   "source": [
    "# Order the columns\n",
    "training_columns = list_of_symptoms + ['cycle_id', 'day_in_cycle', 'absolute_day', 'period']\n",
    "training = training[training_columns]"
   ]
  }
 ],
 "metadata": {
  "anaconda-cloud": {},
  "kernelspec": {
   "display_name": "Python 3",
   "language": "python",
   "name": "python3"
  },
  "language_info": {
   "codemirror_mode": {
    "name": "ipython",
    "version": 3
   },
   "file_extension": ".py",
   "mimetype": "text/x-python",
   "name": "python",
   "nbconvert_exporter": "python",
   "pygments_lexer": "ipython3",
   "version": "3.5.2"
  }
 },
 "nbformat": 4,
 "nbformat_minor": 2
}
