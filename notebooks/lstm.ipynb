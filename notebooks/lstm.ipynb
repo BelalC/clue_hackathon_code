{
 "cells": [
  {
   "cell_type": "code",
   "execution_count": 79,
   "metadata": {
    "collapsed": false
   },
   "outputs": [
    {
     "name": "stdout",
     "output_type": "stream",
     "text": [
      "Train total outputs: 16\n",
      "Train nb sequences: 1000\n"
     ]
    }
   ],
   "source": [
    "from __future__ import print_function\n",
    "from keras.models import Sequential\n",
    "from keras.layers import Dense, Activation\n",
    "from keras.layers import LSTM, Dropout\n",
    "from keras.optimizers import RMSprop, adam\n",
    "from keras.utils.data_utils import get_file\n",
    "from keras.callbacks import History, ModelCheckpoint\n",
    "import numpy as np\n",
    "import pandas as pd\n",
    "import random\n",
    "import sys\n",
    "import string\n",
    "import matplotlib.pyplot as plt\n",
    "%matplotlib inline\n",
    "\n",
    "# Define number of inputs/outputs to handle\n",
    "input_size = 16\n",
    "output_size = 16\n",
    "\n",
    "# Load the train data\n",
    "#path = \"???.csv\"\n",
    "#df = pd.read_csv(path)\n",
    "\n",
    "df = np.ones((100,16,2),dtype=int)\n",
    "\n",
    "print('Train total outputs:', output)\n",
    "\n",
    "# Pre-process the data (normalize)\n",
    "\n",
    "# cut the input in semi-redundant sequences of maxlen characters\n",
    "maxlen = 60\n",
    "step_days = 3\n",
    "max_sequences = 10**3\n",
    "days_sequence = np.empty((max_sequences,maxlen,input_size),dtype=int)\n",
    "next_day = np.empty((max_sequences,output_size),dtype=int)\n",
    "\n",
    "j=0\n",
    "for woman_i in range(0,df.shape[2]):\n",
    "    for day_i in range(0, df.shape[0] - maxlen, step_days):\n",
    "        days_sequence[j] = df[day_i: day_i + maxlen,:input,woman_i]\n",
    "        next_day[j] = df[day_i + maxlen,:input,woman_i]\n",
    "        j += 1\n",
    "\n",
    "print('Train nb sequences:', len(days_sequence))\n",
    "\n",
    "X_train=days_sequence\n",
    "y_train=next_day\n",
    "\n",
    "X_test=days_sequence[:10,:,:]\n",
    "y_test=next_day[:10,:]"
   ]
  },
  {
   "cell_type": "code",
   "execution_count": 140,
   "metadata": {
    "collapsed": false
   },
   "outputs": [
    {
     "name": "stdout",
     "output_type": "stream",
     "text": [
      "(1000, 60, 16)\n",
      "(1000, 16)\n",
      "(10, 60, 16)\n",
      "(10, 16)\n"
     ]
    }
   ],
   "source": [
    "print(X_train.shape)\n",
    "print(y_train.shape)\n",
    "print(X_test.shape)\n",
    "print(y_test.shape)"
   ]
  },
  {
   "cell_type": "code",
   "execution_count": 180,
   "metadata": {
    "collapsed": false
   },
   "outputs": [],
   "source": [
    "def plot_logs(history):\n",
    "    \"\"\"\n",
    "    Plot the accuracy and loss for \n",
    "        training and test sets\n",
    "    \"\"\"\n",
    "    evaluation_cost = history.history['val_loss']\n",
    "    evaluation_accuracy = history.history['val_acc']\n",
    "    training_cost = history.history['loss']\n",
    "    training_accuracy = history.history['acc']\n",
    "    f, (ax1, ax2) = plt.subplots(1, 2)\n",
    "    f.set_figwidth(10)\n",
    "    ax1.plot(evaluation_cost,label= 'test')\n",
    "    ax1.plot(training_cost, label='train')\n",
    "    ax1.set_title('Cost')\n",
    "    ax1.legend()\n",
    "    ax2.plot(evaluation_accuracy, label='test')\n",
    "    ax2.plot(training_accuracy, label='train')\n",
    "    ax2.set_title('Accuracy')\n",
    "    ax2.legend(loc='lower right')\n",
    "\n",
    "\n",
    "def sample(preds, temperature=1.0):\n",
    "    \"\"\"\n",
    "    Generate the next sequence\n",
    "    Low temperature means very conservative (picks more probable most of the time)\n",
    "    High temperature means very adventurous (picks less probable more frequently)\n",
    "    \"\"\"\n",
    "    # helper function to sample an index from a probability array\n",
    "    preds = np.asarray(preds).astype('float64')\n",
    "    preds = np.log(preds) / temperature\n",
    "    exp_preds = np.exp(preds)\n",
    "    preds = exp_preds / np.sum(exp_preds)\n",
    "    probas = np.random.multinomial(1, preds, 1)\n",
    "    return np.argmax(probas)\n",
    "\n",
    "def generate_prediction(history,days=28, maxlen=60, input_size=16, output_size=16, diversity=1):\n",
    "    \"\"\"\n",
    "    Generates as many days of prediction as requested\n",
    "    Considers maxlen days of past history (must be aligned with model)\n",
    "    \"\"\"\n",
    "    generated = np.zeros((days,output_size))\n",
    "    if history.shape[1]>60:\n",
    "        x = history[:,-61:-1,:input_size]\n",
    "    else:\n",
    "        x = history[:,:,:input_size]\n",
    "    #print(x.shape)\n",
    "    for i in range(days):\n",
    "        #print(\"Day %d\" % i)\n",
    "        preds = model.predict(x, verbose=0)[0]\n",
    "        #print(preds)\n",
    "        #next_symptoms = sample(preds, diversity)\n",
    "        next_symptoms = preds\n",
    "        #print(next_symptoms)\n",
    "\n",
    "        generated[i,:] = next_symptoms\n",
    "        x[:,:maxlen-1,:] = x[:,1:,:]\n",
    "        x[:,maxlen-1,:] = next_symptoms\n",
    "\n",
    "    return generated"
   ]
  },
  {
   "cell_type": "code",
   "execution_count": 181,
   "metadata": {
    "collapsed": false
   },
   "outputs": [
    {
     "data": {
      "text/plain": [
       "(28, 16)"
      ]
     },
     "execution_count": 181,
     "metadata": {},
     "output_type": "execute_result"
    }
   ],
   "source": [
    "res = generate_prediction(X_train[0,:,:].reshape(1,60,-1))\n",
    "res.shape"
   ]
  },
  {
   "cell_type": "code",
   "execution_count": 85,
   "metadata": {
    "collapsed": false,
    "scrolled": true
   },
   "outputs": [
    {
     "name": "stdout",
     "output_type": "stream",
     "text": [
      "Build model...\n",
      "Train on 1000 samples, validate on 10 samples\n",
      "Epoch 1/10\n",
      " 896/1000 [=========================>....] - ETA: 0s - loss: 2369508534.8571 - acc: 0.0118Epoch 00000: val_acc improved from -inf to 0.00000, saving model to lstm_1_layer.hdf5\n",
      "1000/1000 [==============================] - 2s - loss: 2371375736.8320 - acc: 0.0120 - val_loss: 2.7747 - val_acc: 0.0000e+00\n",
      "Epoch 2/10\n",
      " 896/1000 [=========================>....] - ETA: 0s - loss: 2370075611.4286 - acc: 0.0122Epoch 00001: val_acc did not improve\n",
      "1000/1000 [==============================] - 0s - loss: 2371036475.3920 - acc: 0.0120 - val_loss: 2.7741 - val_acc: 0.0000e+00\n",
      "Epoch 3/10\n",
      " 896/1000 [=========================>....] - ETA: 0s - loss: 2377515154.2857 - acc: 0.0114Epoch 00002: val_acc did not improve\n",
      "1000/1000 [==============================] - 0s - loss: 2370814969.8560 - acc: 0.0120 - val_loss: 2.7733 - val_acc: 0.0000e+00\n",
      "Epoch 4/10\n",
      " 896/1000 [=========================>....] - ETA: 0s - loss: 2362843904.0000 - acc: 0.0115Epoch 00003: val_acc did not improve\n",
      "1000/1000 [==============================] - 0s - loss: 2370760257.5360 - acc: 0.0120 - val_loss: 2.7729 - val_acc: 0.0000e+00\n",
      "Epoch 5/10\n",
      " 896/1000 [=========================>....] - ETA: 0s - loss: 2376079396.5714 - acc: 0.0123Epoch 00004: val_acc did not improve\n",
      "1000/1000 [==============================] - 0s - loss: 2370730737.6640 - acc: 0.0120 - val_loss: 2.7728 - val_acc: 0.0000e+00\n",
      "Epoch 6/10\n",
      " 896/1000 [=========================>....] - ETA: 0s - loss: 2375169005.7143 - acc: 0.0121Epoch 00005: val_acc did not improve\n",
      "1000/1000 [==============================] - 0s - loss: 2370809034.7520 - acc: 0.0120 - val_loss: 2.7727 - val_acc: 0.0000e+00\n",
      "Epoch 7/10\n",
      " 896/1000 [=========================>....] - ETA: 0s - loss: 2356296521.1429 - acc: 0.0122Epoch 00006: val_acc did not improve\n",
      "1000/1000 [==============================] - 0s - loss: 2370690273.2800 - acc: 0.0120 - val_loss: 2.7726 - val_acc: 0.0000e+00\n",
      "Epoch 8/10\n",
      " 896/1000 [=========================>....] - ETA: 0s - loss: 2382881609.1429 - acc: 0.0122Epoch 00007: val_acc did not improve\n",
      "1000/1000 [==============================] - 0s - loss: 2370715205.6320 - acc: 0.0120 - val_loss: 2.7726 - val_acc: 0.0000e+00\n",
      "Epoch 9/10\n",
      " 896/1000 [=========================>....] - ETA: 0s - loss: 2377134774.8571 - acc: 0.0123Epoch 00008: val_acc did not improve\n",
      "1000/1000 [==============================] - 0s - loss: 2370723962.8800 - acc: 0.0120 - val_loss: 2.7726 - val_acc: 0.0000e+00\n",
      "Epoch 10/10\n",
      " 896/1000 [=========================>....] - ETA: 0s - loss: 2380921197.7143 - acc: 0.0123Epoch 00009: val_acc did not improve\n",
      "1000/1000 [==============================] - 0s - loss: 2370702815.2320 - acc: 0.0120 - val_loss: 2.7726 - val_acc: 0.0000e+00\n",
      "Test score: 2.7725944519\n",
      "Test accuracy: 0.0\n"
     ]
    },
    {
     "data": {
      "image/png": "[encoded data removed]",
      "text/plain": [
       "<matplotlib.figure.Figure at 0x60774de0b00>"
      ]
     },
     "metadata": {},
     "output_type": "display_data"
    }
   ],
   "source": [
    "# Model params\n",
    "batch_size = 128\n",
    "nb_epoch = 10\n",
    "np.random.seed(131078)\n",
    "\n",
    "# build the model\n",
    "print('Build model...')\n",
    "\n",
    "filepath=\"lstm_1_layer.hdf5\"\n",
    "model = Sequential()\n",
    "model.add(LSTM(128, input_shape=(maxlen, input_size)))\n",
    "model.add(Dense(output_size))\n",
    "model.add(Activation('softmax'))\n",
    "\n",
    "\"\"\"\n",
    "filepath=\"lstm_2_layers.hdf5\"\n",
    "model = Sequential()\n",
    "model.add(LSTM(128, input_shape=(maxlen, output, return_sequences=True))\n",
    "model.add(Dropout(0.5))\n",
    "model.add(LSTM(128))\n",
    "model.add(Dropout(0.5))\n",
    "model.add(Dense(len(chars)))\n",
    "model.add(Activation('softmax'))\n",
    "\"\"\"\n",
    "\n",
    "\n",
    "optimizer = adam()\n",
    "model.compile(loss='binary_crossentropy', \n",
    "              optimizer=optimizer,\n",
    "              metrics=['accuracy'])\n",
    "\n",
    "# Define callback to save model\n",
    "save_snapshots = ModelCheckpoint(filepath,\n",
    "                                 monitor='val_acc',\n",
    "                                 save_best_only=True,\n",
    "                                 save_weights_only=True,\n",
    "                                 mode='max',\n",
    "                                 verbose=1)\n",
    "callbacks_list = [save_snapshots]\n",
    "\n",
    "history = model.fit(X_train,\n",
    "                    y_train,\n",
    "                    batch_size=batch_size,\n",
    "                    nb_epoch=nb_epoch,\n",
    "                    validation_data=(X_test, y_test),\n",
    "                    callbacks=callbacks_list,\n",
    "                    verbose=1)          \n",
    "\n",
    "score = model.evaluate(X_test, y_test, verbose=2)\n",
    "print('Test score:', score[0])\n",
    "print('Test accuracy:', score[1])  \n",
    "\n",
    "plot_logs(history)          \n"
   ]
  },
  {
   "cell_type": "code",
   "execution_count": null,
   "metadata": {
    "collapsed": true
   },
   "outputs": [],
   "source": []
  },
  {
   "cell_type": "code",
   "execution_count": null,
   "metadata": {
    "collapsed": true
   },
   "outputs": [],
   "source": []
  },
  {
   "cell_type": "code",
   "execution_count": null,
   "metadata": {
    "collapsed": true
   },
   "outputs": [],
   "source": []
  },
  {
   "cell_type": "code",
   "execution_count": null,
   "metadata": {
    "collapsed": true
   },
   "outputs": [],
   "source": []
  },
  {
   "cell_type": "code",
   "execution_count": null,
   "metadata": {
    "collapsed": true
   },
   "outputs": [],
   "source": []
  },
  {
   "cell_type": "code",
   "execution_count": null,
   "metadata": {
    "collapsed": true
   },
   "outputs": [],
   "source": []
  },
  {
   "cell_type": "code",
   "execution_count": null,
   "metadata": {
    "collapsed": true
   },
   "outputs": [],
   "source": []
  },
  {
   "cell_type": "code",
   "execution_count": null,
   "metadata": {
    "collapsed": true
   },
   "outputs": [],
   "source": []
  }
 ],
 "metadata": {
  "anaconda-cloud": {},
  "kernelspec": {
   "display_name": "Python [conda root]",
   "language": "python",
   "name": "conda-root-py"
  },
  "language_info": {
   "codemirror_mode": {
    "name": "ipython",
    "version": 3
   },
   "file_extension": ".py",
   "mimetype": "text/x-python",
   "name": "python",
   "nbconvert_exporter": "python",
   "pygments_lexer": "ipython3",
   "version": "3.5.2"
  }
 },
 "nbformat": 4,
 "nbformat_minor": 1
}
