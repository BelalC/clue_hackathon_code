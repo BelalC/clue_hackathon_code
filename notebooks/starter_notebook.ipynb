{
 "cells": [
  {
   "cell_type": "code",
   "execution_count": 1,
   "metadata": {
    "ExecuteTime": {
     "end_time": "2017-03-18T15:06:05.895202",
     "start_time": "2017-03-18T15:06:05.604066"
    },
    "collapsed": false,
    "run_control": {
     "frozen": false,
     "read_only": false
    }
   },
   "outputs": [],
   "source": [
    "from os.path import join as pj\n",
    "import os\n",
    "import pandas as pd\n",
    "data_dir = '../data/'"
   ]
  },
  {
   "cell_type": "code",
   "execution_count": null,
   "metadata": {
    "ExecuteTime": {
     "start_time": "2017-03-18T14:06:08.119Z"
    },
    "collapsed": false
   },
   "outputs": [],
   "source": [
    "active_days = pd.read_csv(pj(data_dir, 'active_days.csv'))\n",
    "users = pd.read_csv(pj(data_dir, 'users.csv'))\n",
    "\n",
    "cycles = pd.read_csv(pj(data_dir, 'cycles.csv'), parse_dates=['cycle_start'])\n",
    "cycles0 = pd.read_csv(pj(data_dir, 'cycles0.csv'), parse_dates=['cycle_start'])\n",
    "\n",
    "# Train on this\n",
    "tracking = pd.read_csv(pj(data_dir, 'tracking.csv'), parse_dates=['date'])\n",
    "\n",
    "# Test on this\n",
    "tracking_test = pd.read_csv(pj(data_dir, 'labels.csv'))"
   ]
  }
 ],
 "metadata": {
  "kernelspec": {
   "display_name": "Python 3",
   "language": "python",
   "name": "python3"
  },
  "language_info": {
   "codemirror_mode": {
    "name": "ipython",
    "version": 3
   },
   "file_extension": ".py",
   "mimetype": "text/x-python",
   "name": "python",
   "nbconvert_exporter": "python",
   "pygments_lexer": "ipython3",
   "version": "3.5.2"
  }
 },
 "nbformat": 4,
 "nbformat_minor": 2
}
