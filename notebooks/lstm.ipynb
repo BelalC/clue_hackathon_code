{
 "cells": [
  {
   "cell_type": "code",
   "execution_count": 431,
   "metadata": {
    "collapsed": false
   },
   "outputs": [],
   "source": [
    "%run ../prepare_data.py - N 10\n",
    "df_train = df_sequence.reshape(sequence.shape[0],sequence.shape[1],1)"
   ]
  },
  {
   "cell_type": "code",
   "execution_count": 487,
   "metadata": {
    "collapsed": false
   },
   "outputs": [
    {
     "name": "stderr",
     "output_type": "stream",
     "text": [
      "D:\\Users\\greg_\\Anaconda3\\lib\\site-packages\\pandas\\core\\indexing.py:297: SettingWithCopyWarning: \n",
      "A value is trying to be set on a copy of a slice from a DataFrame.\n",
      "Try using .loc[row_indexer,col_indexer] = value instead\n",
      "\n",
      "See the caveats in the documentation: http://pandas.pydata.org/pandas-docs/stable/indexing.html#indexing-view-versus-copy\n",
      "  self.obj[key] = _infer_fill_value(value)\n",
      "D:\\Users\\greg_\\Anaconda3\\lib\\site-packages\\pandas\\core\\indexing.py:477: SettingWithCopyWarning: \n",
      "A value is trying to be set on a copy of a slice from a DataFrame.\n",
      "Try using .loc[row_indexer,col_indexer] = value instead\n",
      "\n",
      "See the caveats in the documentation: http://pandas.pydata.org/pandas-docs/stable/indexing.html#indexing-view-versus-copy\n",
      "  self.obj[item] = s\n"
     ]
    },
    {
     "name": "stdout",
     "output_type": "stream",
     "text": [
      "(10000, 81, 1)\n"
     ]
    }
   ],
   "source": [
    "%run ../prepare_data.py - N 1\n",
    "df_test = df_sequence.reshape(sequence.shape[0],sequence.shape[1],1)\n"
   ]
  },
  {
   "cell_type": "code",
   "execution_count": 490,
   "metadata": {
    "collapsed": false
   },
   "outputs": [],
   "source": [
    "df_train = df_train[:j,:,:]"
   ]
  },
  {
   "cell_type": "code",
   "execution_count": 491,
   "metadata": {
    "collapsed": false
   },
   "outputs": [
    {
     "data": {
      "text/plain": [
       "(1924, 81, 1)"
      ]
     },
     "execution_count": 491,
     "metadata": {},
     "output_type": "execute_result"
    }
   ],
   "source": [
    "df_train.shape"
   ]
  },
  {
   "cell_type": "code",
   "execution_count": 492,
   "metadata": {
    "collapsed": false
   },
   "outputs": [
    {
     "name": "stdout",
     "output_type": "stream",
     "text": [
      "Train total outputs: 1\n",
      "Train nb sequences: 103\n"
     ]
    }
   ],
   "source": [
    "from __future__ import print_function\n",
    "from keras.models import Sequential\n",
    "from keras.layers import Dense, Activation\n",
    "from keras.layers import LSTM, Dropout\n",
    "from keras.optimizers import RMSprop, adam\n",
    "from keras.utils.data_utils import get_file\n",
    "from keras.callbacks import History, ModelCheckpoint\n",
    "import numpy as np\n",
    "import pandas as pd\n",
    "import random\n",
    "import sys\n",
    "import string\n",
    "import matplotlib.pyplot as plt\n",
    "%matplotlib inline\n",
    "\n",
    "\n",
    "# Define number of inputs/outputs to handle\n",
    "input_size = 16\n",
    "output_size= 1\n",
    "\n",
    "# Load the train data\n",
    "...\n",
    "\n",
    "print('Train total outputs:', output_size)\n",
    "\n",
    "# Pre-process the data (normalize)\n",
    "\n",
    "# cut the input in semi-redundant sequences of maxlen characters\n",
    "maxlen = 60\n",
    "step_days = 1\n",
    "\n",
    "\n",
    "\n",
    "def reformat(df):\n",
    "    max_sequences = 10**5\n",
    "    days_sequence = np.empty((max_sequences,maxlen,input_size),dtype=int)\n",
    "    next_day = np.empty((max_sequences,output_size),dtype=int)\n",
    "    j=0\n",
    "\n",
    "    for woman_i in range(0,df.shape[2]):\n",
    "        for day_i in range(0, df.shape[0] - maxlen, step_days):\n",
    "            days_sequence[j] = df[day_i: day_i + maxlen,:input_size,woman_i]\n",
    "            next_day[j] = df[day_i + maxlen,:output_size,woman_i]\n",
    "            j += 1\n",
    "    days_sequence = days_sequence[:j,:,:]\n",
    "    next_day = next_day[:j,:]\n",
    "    \n",
    "    return days_sequence,next_day\n",
    "        \n",
    "print('Train nb sequences:', len(days_sequence))\n",
    "\n",
    "X_train, y_train = reformat(df_train)\n",
    "X_test,y_test=reformat(df_test)\n"
   ]
  },
  {
   "cell_type": "code",
   "execution_count": 493,
   "metadata": {
    "collapsed": false
   },
   "outputs": [
    {
     "name": "stdout",
     "output_type": "stream",
     "text": [
      "(1864, 60, 16)\n",
      "(1864, 1)\n",
      "(17, 60, 16)\n",
      "(17, 1)\n"
     ]
    }
   ],
   "source": [
    "print(X_train.shape)\n",
    "print(y_train.shape)\n",
    "print(X_test.shape)\n",
    "print(y_test.shape)"
   ]
  },
  {
   "cell_type": "code",
   "execution_count": 494,
   "metadata": {
    "collapsed": false
   },
   "outputs": [],
   "source": [
    "def plot_logs(history):\n",
    "    \"\"\"\n",
    "    Plot the accuracy and loss for \n",
    "        training and test sets\n",
    "    \"\"\"\n",
    "    evaluation_cost = history.history['val_loss']\n",
    "    evaluation_accuracy = history.history['val_acc']\n",
    "    training_cost = history.history['loss']\n",
    "    training_accuracy = history.history['acc']\n",
    "    f, (ax1, ax2) = plt.subplots(1, 2)\n",
    "    f.set_figwidth(10)\n",
    "    ax1.plot(evaluation_cost,label= 'test')\n",
    "    ax1.plot(training_cost, label='train')\n",
    "    ax1.set_title('Cost')\n",
    "    ax1.legend()\n",
    "    ax2.plot(evaluation_accuracy, label='test')\n",
    "    ax2.plot(training_accuracy, label='train')\n",
    "    ax2.set_title('Accuracy')\n",
    "    ax2.legend(loc='lower right')\n",
    "\n",
    "\n",
    "def sample(preds, temperature=1.0):\n",
    "    \"\"\"\n",
    "    Generate the next sequence\n",
    "    Low temperature means very conservative (picks more probable most of the time)\n",
    "    High temperature means very adventurous (picks less probable more frequently)\n",
    "    \"\"\"\n",
    "    # helper function to sample an index from a probability array\n",
    "    preds = np.asarray(preds).astype('float64')\n",
    "    preds = np.log(preds) / temperature\n",
    "    exp_preds = np.exp(preds)\n",
    "    preds = exp_preds / np.sum(exp_preds)\n",
    "    probas = np.random.multinomial(1, preds, 1)\n",
    "    return np.argmax(probas)\n",
    "\n",
    "def generate_prediction(history,days=28, maxlen=60, input_size=16, output_size=16, diversity=1):\n",
    "    \"\"\"\n",
    "    Generates as many days of prediction as requested\n",
    "    Considers maxlen days of past history (must be aligned with model)\n",
    "    \"\"\"\n",
    "    generated = np.zeros((days,output_size))\n",
    "    if history.shape[1]>60:\n",
    "        x = history[:,-61:-1,:input_size]\n",
    "    else:\n",
    "        x = history[:,:,:input_size]\n",
    "    #print(x.shape)\n",
    "    for i in range(days):\n",
    "        #print(\"Day %d\" % i)\n",
    "        preds = model.predict(x, verbose=0)[0]\n",
    "        #print(preds)\n",
    "        #next_symptoms = sample(preds, diversity)\n",
    "        next_symptoms = preds\n",
    "        #print(next_symptoms)\n",
    "\n",
    "        generated[i,:] = next_symptoms\n",
    "        x[:,:maxlen-1,:] = x[:,1:,:]\n",
    "        x[:,maxlen-1,:] = next_symptoms\n",
    "\n",
    "    return generated"
   ]
  },
  {
   "cell_type": "code",
   "execution_count": 496,
   "metadata": {
    "collapsed": false,
    "scrolled": false
   },
   "outputs": [
    {
     "name": "stdout",
     "output_type": "stream",
     "text": [
      "Build model...\n",
      "Train on 1864 samples, validate on 17 samples\n",
      "Epoch 1/50\n",
      "1864/1864 [==============================] - 8s - loss: 0.6359 - acc: 0.7650 - val_loss: 0.3404 - val_acc: 0.9412\n",
      "Epoch 2/50\n",
      "1864/1864 [==============================] - 1s - loss: 0.2209 - acc: 0.9796 - val_loss: 0.2412 - val_acc: 0.9412\n",
      "Epoch 3/50\n",
      "1864/1864 [==============================] - 1s - loss: 0.1007 - acc: 0.9796 - val_loss: 0.2808 - val_acc: 0.9412\n",
      "Epoch 4/50\n",
      "1864/1864 [==============================] - 1s - loss: 0.1014 - acc: 0.9796 - val_loss: 0.2675 - val_acc: 0.9412\n",
      "Epoch 5/50\n",
      "1864/1864 [==============================] - 1s - loss: 0.1017 - acc: 0.9796 - val_loss: 0.2426 - val_acc: 0.9412\n",
      "Epoch 6/50\n",
      "1864/1864 [==============================] - 1s - loss: 0.1013 - acc: 0.9796 - val_loss: 0.2396 - val_acc: 0.9412\n",
      "Epoch 7/50\n",
      "1864/1864 [==============================] - 1s - loss: 0.1012 - acc: 0.9796 - val_loss: 0.2512 - val_acc: 0.9412\n",
      "Epoch 8/50\n",
      "1864/1864 [==============================] - 1s - loss: 0.1000 - acc: 0.9796 - val_loss: 0.2577 - val_acc: 0.9412\n",
      "Epoch 9/50\n",
      "1864/1864 [==============================] - 1s - loss: 0.0989 - acc: 0.9796 - val_loss: 0.2502 - val_acc: 0.9412\n",
      "Epoch 10/50\n",
      "1864/1864 [==============================] - 1s - loss: 0.1014 - acc: 0.9796 - val_loss: 0.2459 - val_acc: 0.9412\n",
      "Epoch 11/50\n",
      "1864/1864 [==============================] - 1s - loss: 0.0985 - acc: 0.9796 - val_loss: 0.2474 - val_acc: 0.9412\n",
      "Epoch 12/50\n",
      "1864/1864 [==============================] - 1s - loss: 0.0990 - acc: 0.9796 - val_loss: 0.2491 - val_acc: 0.9412\n",
      "Epoch 13/50\n",
      "1864/1864 [==============================] - 1s - loss: 0.1004 - acc: 0.9796 - val_loss: 0.2491 - val_acc: 0.9412\n",
      "Epoch 14/50\n",
      "1864/1864 [==============================] - 1s - loss: 0.1002 - acc: 0.9796 - val_loss: 0.2433 - val_acc: 0.9412\n",
      "Epoch 15/50\n",
      "1864/1864 [==============================] - 1s - loss: 0.1004 - acc: 0.9796 - val_loss: 0.2470 - val_acc: 0.9412\n",
      "Epoch 16/50\n",
      "1864/1864 [==============================] - 1s - loss: 0.1002 - acc: 0.9796 - val_loss: 0.2485 - val_acc: 0.9412\n",
      "Epoch 17/50\n",
      "1864/1864 [==============================] - 1s - loss: 0.0983 - acc: 0.9796 - val_loss: 0.2479 - val_acc: 0.9412\n",
      "Epoch 18/50\n",
      "1864/1864 [==============================] - 1s - loss: 0.0966 - acc: 0.9796 - val_loss: 0.2413 - val_acc: 0.9412\n",
      "Epoch 19/50\n",
      "1864/1864 [==============================] - 1s - loss: 0.0989 - acc: 0.9796 - val_loss: 0.2453 - val_acc: 0.9412\n",
      "Epoch 20/50\n",
      "1864/1864 [==============================] - 1s - loss: 0.0985 - acc: 0.9796 - val_loss: 0.2399 - val_acc: 0.9412\n",
      "Epoch 21/50\n",
      "1864/1864 [==============================] - 1s - loss: 0.0975 - acc: 0.9796 - val_loss: 0.2375 - val_acc: 0.9412\n",
      "Epoch 22/50\n",
      "1864/1864 [==============================] - 1s - loss: 0.0963 - acc: 0.9796 - val_loss: 0.2447 - val_acc: 0.9412\n",
      "Epoch 23/50\n",
      "1864/1864 [==============================] - 1s - loss: 0.0955 - acc: 0.9796 - val_loss: 0.2237 - val_acc: 0.9412\n",
      "Epoch 24/50\n",
      "1864/1864 [==============================] - 1s - loss: 0.0981 - acc: 0.9796 - val_loss: 0.2321 - val_acc: 0.9412\n",
      "Epoch 25/50\n",
      "1864/1864 [==============================] - 1s - loss: 0.0971 - acc: 0.9796 - val_loss: 0.2475 - val_acc: 0.9412\n",
      "Epoch 26/50\n",
      "1864/1864 [==============================] - 1s - loss: 0.0942 - acc: 0.9796 - val_loss: 0.2180 - val_acc: 0.9412\n",
      "Epoch 27/50\n",
      "1864/1864 [==============================] - 1s - loss: 0.0963 - acc: 0.9796 - val_loss: 0.2165 - val_acc: 0.9412\n",
      "Epoch 28/50\n",
      "1864/1864 [==============================] - 1s - loss: 0.0929 - acc: 0.9796 - val_loss: 0.2337 - val_acc: 0.9412\n",
      "Epoch 29/50\n",
      "1864/1864 [==============================] - 1s - loss: 0.0935 - acc: 0.9796 - val_loss: 0.2281 - val_acc: 0.9412\n",
      "Epoch 30/50\n",
      "1864/1864 [==============================] - 1s - loss: 0.0915 - acc: 0.9796 - val_loss: 0.2261 - val_acc: 0.9412\n",
      "Epoch 31/50\n",
      "1864/1864 [==============================] - 1s - loss: 0.0914 - acc: 0.9796 - val_loss: 0.2366 - val_acc: 0.9412\n",
      "Epoch 32/50\n",
      "1864/1864 [==============================] - 1s - loss: 0.0901 - acc: 0.9796 - val_loss: 0.2173 - val_acc: 0.9412\n",
      "Epoch 33/50\n",
      "1864/1864 [==============================] - 1s - loss: 0.0908 - acc: 0.9796 - val_loss: 0.2406 - val_acc: 0.9412\n",
      "Epoch 34/50\n",
      "1864/1864 [==============================] - 1s - loss: 0.0897 - acc: 0.9796 - val_loss: 0.2199 - val_acc: 0.9412\n",
      "Epoch 35/50\n",
      "1864/1864 [==============================] - 1s - loss: 0.0884 - acc: 0.9796 - val_loss: 0.1989 - val_acc: 0.9412\n",
      "Epoch 36/50\n",
      "1864/1864 [==============================] - 1s - loss: 0.0837 - acc: 0.9796 - val_loss: 0.2319 - val_acc: 0.9412\n",
      "Epoch 37/50\n",
      "1864/1864 [==============================] - 1s - loss: 0.0901 - acc: 0.9796 - val_loss: 0.2249 - val_acc: 0.9412\n",
      "Epoch 38/50\n",
      "1864/1864 [==============================] - 1s - loss: 0.0849 - acc: 0.9796 - val_loss: 0.2261 - val_acc: 0.9412\n",
      "Epoch 39/50\n",
      "1864/1864 [==============================] - 1s - loss: 0.0870 - acc: 0.9796 - val_loss: 0.2464 - val_acc: 0.9412\n",
      "Epoch 40/50\n",
      "1864/1864 [==============================] - 1s - loss: 0.0877 - acc: 0.9796 - val_loss: 0.2223 - val_acc: 0.9412\n",
      "Epoch 41/50\n",
      "1864/1864 [==============================] - 1s - loss: 0.0858 - acc: 0.9796 - val_loss: 0.1720 - val_acc: 0.9412\n",
      "Epoch 42/50\n",
      "1864/1864 [==============================] - 1s - loss: 0.0870 - acc: 0.9791 - val_loss: 0.1901 - val_acc: 0.9412\n",
      "Epoch 43/50\n",
      "1864/1864 [==============================] - 1s - loss: 0.0838 - acc: 0.9796 - val_loss: 0.2075 - val_acc: 0.9412\n",
      "Epoch 44/50\n",
      "1864/1864 [==============================] - 1s - loss: 0.0850 - acc: 0.9796 - val_loss: 0.1895 - val_acc: 0.9412\n",
      "Epoch 45/50\n",
      "1864/1864 [==============================] - 1s - loss: 0.0828 - acc: 0.9796 - val_loss: 0.2171 - val_acc: 0.9412\n",
      "Epoch 46/50\n",
      "1864/1864 [==============================] - 1s - loss: 0.0842 - acc: 0.9791 - val_loss: 0.1966 - val_acc: 0.9412\n",
      "Epoch 47/50\n",
      "1864/1864 [==============================] - 1s - loss: 0.0816 - acc: 0.9791 - val_loss: 0.1848 - val_acc: 0.9412\n",
      "Epoch 48/50\n",
      "1864/1864 [==============================] - 1s - loss: 0.0830 - acc: 0.9802 - val_loss: 0.1850 - val_acc: 0.9412\n",
      "Epoch 49/50\n",
      "1864/1864 [==============================] - 1s - loss: 0.0816 - acc: 0.9791 - val_loss: 0.2013 - val_acc: 0.9412\n",
      "Epoch 50/50\n",
      "1864/1864 [==============================] - 1s - loss: 0.0818 - acc: 0.9796 - val_loss: 0.2156 - val_acc: 0.9412\n",
      "Test score: 0.215605586767\n",
      "Test accuracy: 0.941176533699\n"
     ]
    },
    {
     "data": {
      "image/png": "[encoded data removed]",
      "text/plain": [
       "<matplotlib.figure.Figure at 0x60871ab7c88>"
      ]
     },
     "metadata": {},
     "output_type": "display_data"
    }
   ],
   "source": [
    "# Model params\n",
    "batch_size = 512\n",
    "nb_epoch = 50\n",
    "np.random.seed(131078)\n",
    "\n",
    "# build the model\n",
    "print('Build model...')\n",
    "\n",
    "\"\"\"\n",
    "filepath=\"lstm_1_layer.hdf5\"\n",
    "model = Sequential()\n",
    "model.add(LSTM(128, input_shape=(maxlen, input_size)))\n",
    "model.add(Dense(output_size))\n",
    "model.add(Activation('sigmoid'))\n",
    "\n",
    "\"\"\"\n",
    "filepath=\"lstm_2_layers.hdf5\"\n",
    "model = Sequential()\n",
    "model.add(LSTM(128, input_shape=(maxlen, input_size), return_sequences=True))\n",
    "model.add(Dropout(0.1))\n",
    "model.add(LSTM(128))\n",
    "model.add(Dropout(0.1))\n",
    "model.add(Dense(output_size))\n",
    "model.add(Activation('sigmoid'))\n",
    "\n",
    "\n",
    "optimizer = adam()\n",
    "model.compile(loss='binary_crossentropy', \n",
    "              optimizer=optimizer,\n",
    "              metrics=['accuracy'])\n",
    "\n",
    "# Define callback to save model\n",
    "save_snapshots = ModelCheckpoint(filepath,\n",
    "                                 monitor='loss',\n",
    "                                 save_best_only=True,\n",
    "                                 save_weights_only=True,\n",
    "                                 mode='min',\n",
    "                                 verbose=0)\n",
    "callbacks_list = [save_snapshots]\n",
    "\n",
    "history = model.fit(X_train,\n",
    "                    y_train,\n",
    "                    batch_size=batch_size,\n",
    "                    nb_epoch=nb_epoch,\n",
    "                    validation_data=(X_test, y_test),\n",
    "                    callbacks=callbacks_list,\n",
    "                    verbose=1)          \n",
    "\n",
    "score = model.evaluate(X_test, y_test, verbose=2)\n",
    "print('Test score:', score[0])\n",
    "print('Test accuracy:', score[1])  \n",
    "\n",
    "plot_logs(history)          \n"
   ]
  },
  {
   "cell_type": "code",
   "execution_count": 463,
   "metadata": {
    "collapsed": false
   },
   "outputs": [
    {
     "data": {
      "text/plain": [
       "(28, 1)"
      ]
     },
     "execution_count": 463,
     "metadata": {},
     "output_type": "execute_result"
    }
   ],
   "source": [
    "res = generate_prediction(X_test[0,:,:].reshape(1,60,-1),input_size=input_size,output_size=output_size)\n",
    "res.shape"
   ]
  },
  {
   "cell_type": "code",
   "execution_count": 464,
   "metadata": {
    "collapsed": false
   },
   "outputs": [
    {
     "data": {
      "text/plain": [
       "array([[ 0.04611705],\n",
       "       [ 0.04630696],\n",
       "       [ 0.04635759],\n",
       "       [ 0.04639602],\n",
       "       [ 0.04642505],\n",
       "       [ 0.04644674],\n",
       "       [ 0.04646286],\n",
       "       [ 0.04647456],\n",
       "       [ 0.04648277],\n",
       "       [ 0.04648822],\n",
       "       [ 0.04649137],\n",
       "       [ 0.04649263],\n",
       "       [ 0.04649237],\n",
       "       [ 0.04649078],\n",
       "       [ 0.04648809],\n",
       "       [ 0.04648455],\n",
       "       [ 0.04648026],\n",
       "       [ 0.04647543],\n",
       "       [ 0.04647015],\n",
       "       [ 0.04646459],\n",
       "       [ 0.04645879],\n",
       "       [ 0.04645286],\n",
       "       [ 0.0464468 ],\n",
       "       [ 0.04644077],\n",
       "       [ 0.04643479],\n",
       "       [ 0.04642896],\n",
       "       [ 0.04642337],\n",
       "       [ 0.04641799]])"
      ]
     },
     "execution_count": 464,
     "metadata": {},
     "output_type": "execute_result"
    }
   ],
   "source": [
    "res[:,:output_size]\n"
   ]
  },
  {
   "cell_type": "code",
   "execution_count": 465,
   "metadata": {
    "collapsed": false
   },
   "outputs": [
    {
     "data": {
      "text/plain": [
       "array([[0],\n",
       "       [0],\n",
       "       [0],\n",
       "       [0],\n",
       "       [0],\n",
       "       [0],\n",
       "       [0],\n",
       "       [0],\n",
       "       [0],\n",
       "       [1],\n",
       "       [0],\n",
       "       [0],\n",
       "       [0],\n",
       "       [0],\n",
       "       [0],\n",
       "       [0],\n",
       "       [0],\n",
       "       [0],\n",
       "       [0],\n",
       "       [0],\n",
       "       [0],\n",
       "       [0],\n",
       "       [0],\n",
       "       [0],\n",
       "       [0],\n",
       "       [0],\n",
       "       [0],\n",
       "       [0]])"
      ]
     },
     "execution_count": 465,
     "metadata": {},
     "output_type": "execute_result"
    }
   ],
   "source": [
    "y_test[:28,:output_size]"
   ]
  },
  {
   "cell_type": "code",
   "execution_count": null,
   "metadata": {
    "collapsed": true
   },
   "outputs": [],
   "source": []
  }
 ],
 "metadata": {
  "anaconda-cloud": {},
  "kernelspec": {
   "display_name": "Python [conda root]",
   "language": "python",
   "name": "conda-root-py"
  },
  "language_info": {
   "codemirror_mode": {
    "name": "ipython",
    "version": 3
   },
   "file_extension": ".py",
   "mimetype": "text/x-python",
   "name": "python",
   "nbconvert_exporter": "python",
   "pygments_lexer": "ipython3",
   "version": "3.5.2"
  }
 },
 "nbformat": 4,
 "nbformat_minor": 1
}
