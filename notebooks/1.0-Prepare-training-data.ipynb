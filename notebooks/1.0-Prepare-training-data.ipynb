{
 "cells": [
  {
   "cell_type": "code",
   "execution_count": 1,
   "metadata": {
    "ExecuteTime": {
     "end_time": "2017-03-22T16:16:36.428867",
     "start_time": "2017-03-22T16:16:36.265236"
    },
    "collapsed": true,
    "run_control": {
     "frozen": false,
     "read_only": false
    }
   },
   "outputs": [],
   "source": [
    "import joblib\n",
    "import warnings\n",
    "warnings.filterwarnings('ignore')"
   ]
  },
  {
   "cell_type": "code",
   "execution_count": 2,
   "metadata": {
    "ExecuteTime": {
     "end_time": "2017-03-22T16:16:42.923937",
     "start_time": "2017-03-22T16:16:36.847407"
    },
    "collapsed": false,
    "run_control": {
     "frozen": false,
     "read_only": false
    }
   },
   "outputs": [],
   "source": [
    "%run ../preprocessing.py"
   ]
  },
  {
   "cell_type": "code",
   "execution_count": 3,
   "metadata": {
    "ExecuteTime": {
     "end_time": "2017-03-22T16:16:43.675183",
     "start_time": "2017-03-22T16:16:42.925613"
    },
    "collapsed": true,
    "run_control": {
     "frozen": false,
     "read_only": false
    }
   },
   "outputs": [],
   "source": [
    "# Expand cycles so that there is a line per date (active or not) with a boolean indicator of period\n",
    "cycles_processed = expand_cycles(cycles)"
   ]
  },
  {
   "cell_type": "code",
   "execution_count": 4,
   "metadata": {
    "ExecuteTime": {
     "end_time": "2017-03-22T16:16:51.188761",
     "start_time": "2017-03-22T16:16:43.677068"
    },
    "collapsed": true,
    "run_control": {
     "frozen": false,
     "read_only": false
    }
   },
   "outputs": [],
   "source": [
    "# Expand tracking so that there is a line per date (active or not) with a one hot encoded symtoms\n",
    "tracking_processed = process_tracking(tracking)"
   ]
  },
  {
   "cell_type": "code",
   "execution_count": 5,
   "metadata": {
    "ExecuteTime": {
     "end_time": "2017-03-22T16:17:46.716522",
     "start_time": "2017-03-22T16:16:51.190337"
    },
    "collapsed": false,
    "run_control": {
     "frozen": false,
     "read_only": false
    }
   },
   "outputs": [],
   "source": [
    "# Merge cycles and tracking information\n",
    "training = pd.merge(cycles_processed, tracking_processed, left_index=True, right_index=True, how='outer').fillna(0)"
   ]
  },
  {
   "cell_type": "code",
   "execution_count": 6,
   "metadata": {
    "ExecuteTime": {
     "end_time": "2017-03-22T16:17:47.579716",
     "start_time": "2017-03-22T16:17:46.717972"
    },
    "collapsed": false,
    "run_control": {
     "frozen": false,
     "read_only": false
    },
    "scrolled": true
   },
   "outputs": [],
   "source": [
    "# Find the first day the user started using the app\n",
    "training = pd.merge(\n",
    "    training,\n",
    "    cycles.groupby('user_id')\\\n",
    "          .agg({'cycle_start': {'first_use': 'min'}})\\\n",
    "          .reset_index()\\\n",
    "          .set_index('user_id')['cycle_start'],\n",
    "    left_index=True,\n",
    "    right_index=True\n",
    ")"
   ]
  },
  {
   "cell_type": "code",
   "execution_count": 7,
   "metadata": {
    "ExecuteTime": {
     "end_time": "2017-03-22T16:19:33.080306",
     "start_time": "2017-03-22T16:17:47.582080"
    },
    "collapsed": true,
    "run_control": {
     "frozen": false,
     "read_only": false
    }
   },
   "outputs": [],
   "source": [
    "# Find the absolute day for each row from the day the user started using the app\n",
    "absolute_day = (training.reset_index().date.dt.date - training.reset_index().first_use.dt.date).dt.days + 1\n",
    "absolute_day.index = training.index\n",
    "training['absolute_day'] = absolute_day"
   ]
  },
  {
   "cell_type": "code",
   "execution_count": 8,
   "metadata": {
    "ExecuteTime": {
     "end_time": "2017-03-22T16:19:33.894708",
     "start_time": "2017-03-22T16:19:33.081830"
    },
    "collapsed": true,
    "run_control": {
     "frozen": false,
     "read_only": false
    }
   },
   "outputs": [],
   "source": [
    "# Keep only the columns needed by the RNN\n",
    "training = training[training_columns]"
   ]
  },
  {
   "cell_type": "code",
   "execution_count": 9,
   "metadata": {
    "ExecuteTime": {
     "end_time": "2017-03-22T16:20:22.702194",
     "start_time": "2017-03-22T16:19:33.896109"
    },
    "collapsed": true,
    "run_control": {
     "frozen": false,
     "read_only": false
    }
   },
   "outputs": [],
   "source": [
    "# Do a train/test split of the data\n",
    "train_users = users.user_id.sample(frac=0.8)\n",
    "training = training.reset_index()\n",
    "df_train = training[training.user_id.isin(train_users)][training_columns]\n",
    "df_test = training[~training.user_id.isin(train_users)][training_columns]"
   ]
  }
 ],
 "metadata": {
  "anaconda-cloud": {},
  "kernelspec": {
   "display_name": "Python 3",
   "language": "python",
   "name": "python3"
  },
  "language_info": {
   "codemirror_mode": {
    "name": "ipython",
    "version": 3
   },
   "file_extension": ".py",
   "mimetype": "text/x-python",
   "name": "python",
   "nbconvert_exporter": "python",
   "pygments_lexer": "ipython3",
   "version": "3.5.2"
  }
 },
 "nbformat": 4,
 "nbformat_minor": 2
}
