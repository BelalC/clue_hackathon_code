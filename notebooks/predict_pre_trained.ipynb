{
 "cells": [
  {
   "cell_type": "code",
   "execution_count": 1,
   "metadata": {
    "collapsed": false
   },
   "outputs": [
    {
     "name": "stderr",
     "output_type": "stream",
     "text": [
      "Using TensorFlow backend.\n"
     ]
    },
    {
     "name": "stdout",
     "output_type": "stream",
     "text": [
      "Build model...\n",
      "Created model and loaded weights from file\n"
     ]
    }
   ],
   "source": [
    "from keras.models import Sequential\n",
    "from keras.layers import Dense, Activation\n",
    "from keras.layers import LSTM, Dropout\n",
    "from keras.optimizers import RMSprop, adam\n",
    "from keras.utils.data_utils import get_file\n",
    "from keras.callbacks import History, ModelCheckpoint\n",
    "import matplotlib.pyplot as plt\n",
    "import numpy as np\n",
    "import string\n",
    "import pandas as pd\n",
    "\n",
    "# fix random seed for reproducibility\n",
    "seed = 7\n",
    "np.random.seed(seed)\n",
    "\n",
    "# Model params\n",
    "batch_size = 256\n",
    "nb_epoch = 150\n",
    "np.random.seed(131078)\n",
    "\n",
    "# Define number of inputs/outputs to handle\n",
    "input_size = 81\n",
    "output_size= 16\n",
    "\n",
    "# Timeframe\n",
    "maxlen = 90\n",
    "\n",
    "# build the model\n",
    "print('Build model...')\n",
    "\n",
    "filepath=\"lstm_2_layers_higher_dropout.hdf5\"\n",
    "model = Sequential()\n",
    "model.add(LSTM(256, input_shape=(maxlen, input_size), return_sequences=True))\n",
    "model.add(Dropout(0.5))\n",
    "model.add(LSTM(256))\n",
    "model.add(Dropout(0.6))\n",
    "model.add(Dense(output_size))\n",
    "model.add(Activation('sigmoid'))\n",
    "\n",
    "\n",
    "# load weights\n",
    "model.load_weights(\"lstm_2_layers_higher_dropout - Copie.hdf5\")\n",
    "# Compile model (required to make predictions)\n",
    "model.compile(loss='binary_crossentropy', optimizer='adam', metrics=['accuracy'])\n",
    "print(\"Created model and loaded weights from file\")"
   ]
  },
  {
   "cell_type": "code",
   "execution_count": 3,
   "metadata": {
    "collapsed": false
   },
   "outputs": [
    {
     "name": "stderr",
     "output_type": "stream",
     "text": [
      "D:\\Users\\greg_\\Anaconda3\\lib\\site-packages\\pandas\\core\\indexing.py:297: SettingWithCopyWarning: \n",
      "A value is trying to be set on a copy of a slice from a DataFrame.\n",
      "Try using .loc[row_indexer,col_indexer] = value instead\n",
      "\n",
      "See the caveats in the documentation: http://pandas.pydata.org/pandas-docs/stable/indexing.html#indexing-view-versus-copy\n",
      "  self.obj[key] = _infer_fill_value(value)\n",
      "D:\\Users\\greg_\\Anaconda3\\lib\\site-packages\\pandas\\core\\indexing.py:477: SettingWithCopyWarning: \n",
      "A value is trying to be set on a copy of a slice from a DataFrame.\n",
      "Try using .loc[row_indexer,col_indexer] = value instead\n",
      "\n",
      "See the caveats in the documentation: http://pandas.pydata.org/pandas-docs/stable/indexing.html#indexing-view-versus-copy\n",
      "  self.obj[item] = s\n"
     ]
    }
   ],
   "source": [
    "%run ../prepare_data.py -N_users 1"
   ]
  },
  {
   "cell_type": "code",
   "execution_count": 4,
   "metadata": {
    "collapsed": true
   },
   "outputs": [],
   "source": [
    "def generate_prediction(history,days=28, maxlen=60, input_size=16, output_size=16, diversity=1):\n",
    "    \"\"\"\n",
    "    Generates as many days of prediction as requested\n",
    "    Considers maxlen days of past history (must be aligned with model)\n",
    "    \"\"\"\n",
    "    generated = np.zeros((days,output_size))\n",
    "    if history.shape[1]>maxlen:\n",
    "        x = history[:,-maxlen-1:-1,:input_size]\n",
    "    else:\n",
    "        x = history[:,:,:input_size]\n",
    "    #print(x.shape)\n",
    "    for i in range(days):\n",
    "        #print(\"Day %d\" % i)\n",
    "        preds = model.predict(x, verbose=0)[0].reshape(output_size)\n",
    "        #print(preds)\n",
    "        generated[i,:] = preds\n",
    "        \n",
    "        if input_size > output_size:\n",
    "            res = np.zeros(input_size)\n",
    "            res[:output_size] = preds\n",
    "            preds = res\n",
    "\n",
    "        #print(preds.shape)\n",
    "        #next_symptoms = sample(preds, diversity)\n",
    "        next_symptoms = preds\n",
    "        #print(next_symptoms)\n",
    "\n",
    "\n",
    "        x[:,:maxlen-1,:] = x[:,1:,:]\n",
    "        x[:,maxlen-1,:] = next_symptoms\n",
    "\n",
    "    return generated"
   ]
  },
  {
   "cell_type": "code",
   "execution_count": null,
   "metadata": {
    "collapsed": false
   },
   "outputs": [
    {
     "name": "stderr",
     "output_type": "stream",
     "text": [
      "D:\\Users\\greg_\\Anaconda3\\lib\\site-packages\\pandas\\core\\indexing.py:297: SettingWithCopyWarning: \n",
      "A value is trying to be set on a copy of a slice from a DataFrame.\n",
      "Try using .loc[row_indexer,col_indexer] = value instead\n",
      "\n",
      "See the caveats in the documentation: http://pandas.pydata.org/pandas-docs/stable/indexing.html#indexing-view-versus-copy\n",
      "  self.obj[key] = _infer_fill_value(value)\n",
      "D:\\Users\\greg_\\Anaconda3\\lib\\site-packages\\pandas\\core\\indexing.py:477: SettingWithCopyWarning: \n",
      "A value is trying to be set on a copy of a slice from a DataFrame.\n",
      "Try using .loc[row_indexer,col_indexer] = value instead\n",
      "\n",
      "See the caveats in the documentation: http://pandas.pydata.org/pandas-docs/stable/indexing.html#indexing-view-versus-copy\n",
      "  self.obj[item] = s\n"
     ]
    }
   ],
   "source": [
    "def format_prediction(prediction,user_id):\n",
    "    output = []\n",
    "    prediction = pd.DataFrame(prediction)\n",
    "    for i,row in prediction.iterrows():\n",
    "        for j, symptom in enumerate(row):\n",
    "            line = [user_id,i+1,j,prediction.ix[i,j]]\n",
    "            output.append(line)\n",
    "    return output\n",
    "\n",
    "def pad_reshape_history(sequence,maxlen,input_size):\n",
    "    if sequence.shape[0] < maxlen:\n",
    "        hist = np.zeros((maxlen,sequence.shape[1]))\n",
    "        hist[maxlen-sequence.shape[0]:,:] = sequence\n",
    "    else:\n",
    "        hist = sequence[-maxlen-1:-1,:]\n",
    "    if sequence.shape[1] > input_size:\n",
    "        hist = hist[:,:input_size]\n",
    "    hist = hist.reshape(1,maxlen,-1)\n",
    "    return hist\n",
    "    \n",
    "symptoms_of_interest_dict = {\n",
    "    0:'happy',\n",
    "    1:'pms',\n",
    "    2:'sad', \n",
    "    3:'sensitive_emotion',\n",
    "    4:'energized', \n",
    "    5:'exhausted', \n",
    "    6:'high_energy', \n",
    "    7:'low_energy',\n",
    "    8:'cramps', \n",
    "    9:'headache', \n",
    "    10:'ovulation_pain', \n",
    "    11:'tender_breasts',\n",
    "    12:'acne_skin', \n",
    "    13:'good_skin', \n",
    "    14:'oily_skin', \n",
    "    15:'dry_skin'\n",
    "}\n",
    "        \n",
    "submission = []\n",
    "j = 0\n",
    "for index, woman in cycles0.iterrows():\n",
    "    current_id = woman.user_id\n",
    "    expected_length = int(np.ceil(woman.expected_cycle_length))\n",
    "    sequence = transform_user(current_id)\n",
    "    hist = pad_reshape_history(sequence,maxlen,input_size)\n",
    "    res = generate_prediction(hist,maxlen=maxlen,input_size=input_size,output_size=output_size,days=expected_length)\n",
    "    submission.append(format_prediction(res,current_id))\n",
    "    j+=1\n",
    "    if j > 50:\n",
    "        break  \n",
    "\n",
    "submission_df = pd.concat([pd.DataFrame(submission[i]) for i in range(len(submission))], ignore_index=True)  \n",
    "submission_df.columns = ['user_id','day_in_cycle','symptom','probability']\n",
    "submission_df[\"symptom\"] = submission_df[\"symptom\"].apply(lambda x: symptoms_of_interest_dict[x])    \n",
    "\n",
    "submission_df.to_csv(\"results.csv\",index=False) "
   ]
  },
  {
   "cell_type": "code",
   "execution_count": null,
   "metadata": {
    "collapsed": true
   },
   "outputs": [],
   "source": []
  }
 ],
 "metadata": {
  "kernelspec": {
   "display_name": "Python [conda root]",
   "language": "python",
   "name": "conda-root-py"
  },
  "language_info": {
   "codemirror_mode": {
    "name": "ipython",
    "version": 3
   },
   "file_extension": ".py",
   "mimetype": "text/x-python",
   "name": "python",
   "nbconvert_exporter": "python",
   "pygments_lexer": "ipython3",
   "version": "3.5.2"
  }
 },
 "nbformat": 4,
 "nbformat_minor": 1
}
