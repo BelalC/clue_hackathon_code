{
 "cells": [
  {
   "cell_type": "code",
   "execution_count": 1,
   "metadata": {
    "ExecuteTime": {
     "end_time": "2017-03-19T00:36:35.310106",
     "start_time": "2017-03-19T00:36:35.303475"
    },
    "collapsed": true
   },
   "outputs": [],
   "source": [
    "import warnings\n",
    "warnings.filterwarnings('ignore')"
   ]
  },
  {
   "cell_type": "code",
   "execution_count": 2,
   "metadata": {
    "ExecuteTime": {
     "end_time": "2017-03-19T00:37:24.930612",
     "start_time": "2017-03-19T00:36:35.741039"
    },
    "collapsed": false
   },
   "outputs": [
    {
     "name": "stderr",
     "output_type": "stream",
     "text": [
      "Using TensorFlow backend.\n"
     ]
    }
   ],
   "source": [
    "%run ../lstm.py -N_train 100 -N_test 10"
   ]
  },
  {
   "cell_type": "code",
   "execution_count": 3,
   "metadata": {
    "ExecuteTime": {
     "end_time": "2017-03-19T00:37:24.936968",
     "start_time": "2017-03-19T00:37:24.932357"
    },
    "collapsed": false
   },
   "outputs": [
    {
     "name": "stdout",
     "output_type": "stream",
     "text": [
      "(17945, 82)\n",
      "(2151, 82)\n"
     ]
    }
   ],
   "source": [
    "print(df_train.shape)\n",
    "print(df_test.shape)"
   ]
  },
  {
   "cell_type": "code",
   "execution_count": 4,
   "metadata": {
    "ExecuteTime": {
     "end_time": "2017-03-19T00:37:24.975863",
     "start_time": "2017-03-19T00:37:24.938776"
    },
    "collapsed": false
   },
   "outputs": [
    {
     "name": "stdout",
     "output_type": "stream",
     "text": [
      "(17945, 82) (2151, 82)\n",
      "(5962, 60, 16)\n",
      "(5962, 16)\n",
      "(697, 60, 16)\n",
      "(697, 16)\n"
     ]
    }
   ],
   "source": [
    "X_train, y_train = reformat(df_train)\n",
    "X_test,y_test=reformat(df_test)\n",
    "\n",
    "print(df_train.shape,df_test.shape)\n",
    "print(X_train.shape)\n",
    "print(y_train.shape)\n",
    "print(X_test.shape)\n",
    "print(y_test.shape)"
   ]
  },
  {
   "cell_type": "code",
   "execution_count": 5,
   "metadata": {
    "ExecuteTime": {
     "end_time": "2017-03-19T00:37:25.624322",
     "start_time": "2017-03-19T00:37:24.977747"
    },
    "collapsed": false,
    "run_control": {
     "frozen": false,
     "read_only": false
    },
    "scrolled": false
   },
   "outputs": [],
   "source": [
    "np.random.seed(131078)\n",
    "model, filepath = get_model(1)\n",
    "# Define callback to save model\n",
    "save_snapshots = ModelCheckpoint(filepath,\n",
    "                                 monitor='loss',\n",
    "                                 save_best_only=True,\n",
    "                                 save_weights_only=True,\n",
    "                                 mode='min',\n",
    "                                 verbose=0)"
   ]
  },
  {
   "cell_type": "code",
   "execution_count": 6,
   "metadata": {
    "ExecuteTime": {
     "end_time": "2017-03-19T00:37:49.030848",
     "start_time": "2017-03-19T00:37:35.683342"
    },
    "collapsed": false
   },
   "outputs": [
    {
     "name": "stdout",
     "output_type": "stream",
     "text": [
      "Train on 5962 samples, validate on 697 samples\n",
      "Epoch 1/3\n",
      "5962/5962 [==============================] - 4s - loss: 0.6504 - acc: 0.9391 - val_loss: 0.2842 - val_acc: 0.9831\b\b\b\b\b\b\b\b\b\b\b\b\b\b\b\b\b\b\b\b\b\b\b\b\b\b\b\b\b\b\b\b\b\b\b\b\b\b\b\b\b\b\b\b\b\b\b\b\b\b\b\b\b\b\b\b\b\b\b\b\b\b\b\b\b\b\b\b\b\b\b\b\b\b\b\b\b\b\b\b\b\b\b\b\b\b\b\b\b\b\b\b\b\b\b\b\b\b\b\b\b\b\b\b\b\b\b\b\b\b\b\b\b\b\b\b\b\b\b\b\b\b\b\b\b\b\b\b\b\b\b\b\b\b\b\b\b\b\b\b\b\b\b\b\b\b\b\b\b\b\b\b\b\b\b\b\b\b\b\b\b\b\b\b\b\b\b\b\b\b\b\b\b\b\b\b\b\b\b\b\b\b\b\b\b\b\b\b\b\b\b\b\b\b\b\b\b\b\b\b\b\b\b\b\b\b\b\b\b\b\b\b\b\b\b\b\b\b\b\b\b\b\b\b\b\b\b\b\b\b\b\b\b\b\b\b\b\b\b\b\b\b\b\b\b\b\b\b\b\b\b\b\b\b\b\b\b\b\b\b\b\b\b\b\b\b\b\b\b\b\b\b\b\b\b\b\b\b\b\b\b\b\b\b\b\b\b\b\b\b\b\b\b\b\b\b\b\b\b\b\b\b\b\b\b\b\b\b\b\b\b\b\b\b\b\b\b\b\b\b\b\b\b\b\b\b\b\b\b\b\b\b\b\b\b\b\b\b\b\b\b\b\b\b\b\b\b\b\b\b\b\b\b\b\b\b\b\b\b\b\b\b\b\b\b\b\b\b\b\b\b\b\b\b\b\b\b\b\b\b\b\b\b\b\b\b\b\b\b\b\b\b\b\b\b\b\b\b\b\b\b\b\b\b\b\b\b\b\b\b\b\b\b\b\b\b\b\b\b\b\b\b\b\b\b\b\b\b\b\b\b\b\b\b\b\b\b\b\b\b\b\b\b\b\b\b\b\b\b\b\b\b\b\b\b\b\b\b\b\b\b\b\b\b\b\b\b\b\b\b\b\b\b\b\b\b\b\b\b\b\b\b\b\b\b\b\b\b\b\b\b\b\b\b\b\b\b\b\b\b\b\b\b\b\b\b\b\b\b\b\b\b\b\b\b\b\b\b\b\b\b\b\b\b\b\b\b\b\b\b\b\b\b\b\b\b\b\b\b\b\b\b\b\b\b\b\b\b\b\b\b\b\b\b\b\b\b\b\b\b\b\b\b\b\b\b\b\b\b\b\b\b\b\b\b\b\b\b\b\b\b\b\b\b\b\b\b\b\b\b\b\b\b\b\b\b\b\b\b\b\b\b\b\b\b\b\b\b\b\b\b\b\b\b\b\b\b\b\b\b\b\b\b\b\b\b\b\b\b\b\b\b\b\b\b\b\b\b\b\b\b\b\b\b\b\b\b\b\b\b\b\b\b\b\b\b\b\b\b\b\b\b\b\b\b\b\b\b\b\b\b\b\b\b\b\b\b\b\b\b\b\b\b\b\b\b\b\b\b\b\b\b\b\b\b\b\b\b\b\b\b\b\b\b\b\b\b\b\b\b\b\b\b\b\b\b\b\b\b\b\b\b\b\b\b\b\b\b\b\b\b\b\b\b\b\b\b\b\b\b\b\b\b\b\b\b\b\b\b\b\b\b\b\b\b\b\b\b\b\b\b\b\b\b\b\b\b\b\b\b\b\b\b\b\b\b\b\b\b\b\b\b\b\b\b\b\b\b\b\b\b\b\b\b\b\b\b\b\b\b\b\b\b\b\b\b\b\b\b\b\b\b\b\b\b\b\b\b\b\b\b\b\b\b\b\b\b\b\b\b\b\b\b\b\b\b\b\b\b\b\b\b\b\b\b\b\b\b\b\b\b\b\b\b\b\b\b\b\b\n",
      "Epoch 2/3\n",
      "5962/5962 [==============================] - 3s - loss: 0.1549 - acc: 0.9810 - val_loss: 0.0925 - val_acc: 0.9831\b\b\b\b\b\b\b\b\b\b\b\b\b\b\b\b\b\b\b\b\b\b\b\b\b\b\b\b\b\b\b\b\b\b\b\b\b\b\b\b\b\b\b\b\b\b\b\b\b\b\b\b\b\b\b\b\b\b\b\b\b\b\b\b\b\b\b\b\b\b\b\b\b\b\b\b\b\b\b\b\b\b\b\b\b\b\b\b\b\b\b\b\b\b\b\b\b\b\b\b\b\b\b\b\b\b\b\b\b\b\b\b\b\b\b\b\b\b\b\b\b\b\b\b\b\b\b\b\b\b\b\b\b\b\b\b\b\b\b\b\b\b\b\b\b\b\b\b\b\b\b\b\b\b\b\b\b\b\b\b\b\b\b\b\b\b\b\b\b\b\b\b\b\b\b\b\b\b\b\b\b\b\b\b\b\b\b\b\b\b\b\b\b\b\b\b\b\b\b\b\b\b\b\b\b\b\b\b\b\b\b\b\b\b\b\b\b\b\b\b\b\b\b\b\b\b\b\b\b\b\b\b\b\b\b\b\b\b\b\b\b\b\b\b\b\b\b\b\b\b\b\b\b\b\b\b\b\b\b\b\b\b\b\b\b\b\b\b\b\b\b\b\b\b\b\b\b\b\b\b\b\b\b\b\b\b\b\b\b\b\b\b\b\b\b\b\b\b\b\b\b\b\b\b\b\b\b\b\b\b\b\b\b\b\b\b\b\b\b\b\b\b\b\b\b\b\b\b\b\b\b\b\b\b\b\b\b\b\b\b\b\b\b\b\b\b\b\b\b\b\b\b\b\b\b\b\b\b\b\b\b\b\b\b\b\b\b\b\b\b\b\b\b\b\b\b\b\b\b\b\b\b\b\b\b\b\b\b\b\b\b\b\b\b\b\b\b\b\b\b\b\b\b\b\b\b\b\b\b\b\b\b\b\b\b\b\b\b\b\b\b\b\b\b\b\b\b\b\b\b\b\b\b\b\b\b\b\b\b\b\b\b\b\b\b\b\b\b\b\b\b\b\b\b\b\b\b\b\b\b\b\b\b\b\b\b\b\b\b\b\b\b\b\b\b\b\b\b\b\b\b\b\b\b\b\b\b\b\b\b\b\b\b\b\b\b\b\b\b\b\b\b\b\b\b\b\b\b\b\b\b\b\b\b\b\b\b\b\b\b\b\b\b\b\b\b\b\b\b\b\b\b\b\b\b\b\b\b\b\b\b\b\b\b\b\b\b\b\b\b\b\b\b\b\b\b\b\b\b\b\b\b\b\b\b\b\b\b\b\b\b\b\b\b\b\b\b\b\b\b\b\b\b\b\b\b\b\b\b\b\b\b\b\b\b\b\b\b\b\b\b\b\b\b\b\b\b\b\b\b\b\b\b\b\b\b\b\b\b\b\b\b\b\b\b\b\b\b\b\b\b\b\b\b\b\b\b\b\b\b\b\b\b\b\b\b\b\b\b\b\b\b\b\b\b\b\b\b\b\b\b\b\b\b\b\b\b\b\b\b\b\b\b\b\b\b\b\b\b\b\b\b\b\b\b\b\b\b\b\b\b\b\b\b\b\b\b\b\b\b\b\b\b\b\b\b\b\b\b\b\b\b\b\b\b\b\b\b\b\b\b\b\b\b\b\b\b\b\b\b\b\b\b\b\b\b\b\b\b\b\b\b\b\b\b\b\b\b\b\b\b\b\b\b\b\b\b\b\b\b\b\b\b\b\b\b\b\b\b\b\b\b\b\b\b\b\b\b\b\b\b\b\b\b\b\b\b\b\b\b\b\b\b\b\b\b\b\b\b\b\b\b\b\b\b\b\b\b\b\b\b\b\b\b\b\b\b\b\b\b\b\b\b\b\b\b\b\b\b\b\b\b\b\b\b\b\b\b\b\b\b\b\b\b\b\b\b\b\b\b\b\b\b\b\b\b\b\b\b\n",
      "Epoch 3/3\n",
      "5962/5962 [==============================] - 3s - loss: 0.0949 - acc: 0.9810 - val_loss: 0.0862 - val_acc: 0.9831\b\b\b\b\b\b\b\b\b\b\b\b\b\b\b\b\b\b\b\b\b\b\b\b\b\b\b\b\b\b\b\b\b\b\b\b\b\b\b\b\b\b\b\b\b\b\b\b\b\b\b\b\b\b\b\b\b\b\b\b\b\b\b\b\b\b\b\b\b\b\b\b\b\b\b\b\b\b\b\b\b\b\b\b\b\b\b\b\b\b\b\b\b\b\b\b\b\b\b\b\b\b\b\b\b\b\b\b\b\b\b\b\b\b\b\b\b\b\b\b\b\b\b\b\b\b\b\b\b\b\b\b\b\b\b\b\b\b\b\b\b\b\b\b\b\b\b\b\b\b\b\b\b\b\b\b\b\b\b\b\b\b\b\b\b\b\b\b\b\b\b\b\b\b\b\b\b\b\b\b\b\b\b\b\b\b\b\b\b\b\b\b\b\b\b\b\b\b\b\b\b\b\b\b\b\b\b\b\b\b\b\b\b\b\b\b\b\b\b\b\b\b\b\b\b\b\b\b\b\b\b\b\b\b\b\b\b\b\b\b\b\b\b\b\b\b\b\b\b\b\b\b\b\b\b\b\b\b\b\b\b\b\b\b\b\b\b\b\b\b\b\b\b\b\b\b\b\b\b\b\b\b\b\b\b\b\b\b\b\b\b\b\b\b\b\b\b\b\b\b\b\b\b\b\b\b\b\b\b\b\b\b\b\b\b\b\b\b\b\b\b\b\b\b\b\b\b\b\b\b\b\b\b\b\b\b\b\b\b\b\b\b\b\b\b\b\b\b\b\b\b\b\b\b\b\b\b\b\b\b\b\b\b\b\b\b\b\b\b\b\b\b\b\b\b\b\b\b\b\b\b\b\b\b\b\b\b\b\b\b\b\b\b\b\b\b\b\b\b\b\b\b\b\b\b\b\b\b\b\b\b\b\b\b\b\b\b\b\b\b\b\b\b\b\b\b\b\b\b\b\b\b\b\b\b\b\b\b\b\b\b\b\b\b\b\b\b\b\b\b\b\b\b\b\b\b\b\b\b\b\b\b\b\b\b\b\b\b\b\b\b\b\b\b\b\b\b\b\b\b\b\b\b\b\b\b\b\b\b\b\b\b\b\b\b\b\b\b\b\b\b\b\b\b\b\b\b\b\b\b\b\b\b\b\b\b\b\b\b\b\b\b\b\b\b\b\b\b\b\b\b\b\b\b\b\b\b\b\b\b\b\b\b\b\b\b\b\b\b\b\b\b\b\b\b\b\b\b\b\b\b\b\b\b\b\b\b\b\b\b\b\b\b\b\b\b\b\b\b\b\b\b\b\b\b\b\b\b\b\b\b\b\b\b\b\b\b\b\b\b\b\b\b\b\b\b\b\b\b\b\b\b\b\b\b\b\b\b\b\b\b\b\b\b\b\b\b\b\b\b\b\b\b\b\b\b\b\b\b\b\b\b\b\b\b\b\b\b\b\b\b\b\b\b\b\b\b\b\b\b\b\b\b\b\b\b\b\b\b\b\b\b\b\b\b\b\b\b\b\b\b\b\b\b\b\b\b\b\b\b\b\b\b\b\b\b\b\b\b\b\b\b\b\b\b\b\b\b\b\b\b\b\b\b\b\b\b\b\b\b\b\b\b\b\b\b\b\b\b\b\b\b\b\b\b\b\b\b\b\b\b\b\b\b\b\b\b\b\b\b\b\b\b\b\b\b\b\b\b\b\b\b\b\b\b\b\b\b\b\b\b\b\b\b\b\b\b\b\b\b\b\b\b\b\b\b\b\b\b\b\b\b\b\b\b\b\b\b\b\b\b\b\b\b\b\b\b\b\b\b\b\b\b\b\b\b\b\b\b\b\b\b\b\b\b\b\b\b\b\b\b\b\b\b\b\b\b\b\b\b\b\b\b\b\b\b\b\b\b\b\b\b\b\b\b\b\b\b\b\n",
      "Test score: 0.0861955224356\n",
      "Test accuracy: 0.983052366091\n"
     ]
    }
   ],
   "source": [
    "history = model.fit(X_train,\n",
    "                    y_train,\n",
    "                    batch_size=BATCH_SIZE,\n",
    "                    nb_epoch=NB_EPOCH,\n",
    "                    validation_data=(X_test, y_test),\n",
    "                    callbacks=[save_snapshots],\n",
    "                    verbose=1)          \n",
    "\n",
    "score = model.evaluate(X_test, y_test, verbose=2)\n",
    "print('Test score:', score[0])\n",
    "print('Test accuracy:', score[1])  \n",
    "\n",
    "plot_logs(history) "
   ]
  },
  {
   "cell_type": "code",
   "execution_count": 7,
   "metadata": {
    "ExecuteTime": {
     "end_time": "2017-03-19T00:37:58.039858",
     "start_time": "2017-03-19T00:37:57.579898"
    },
    "collapsed": false,
    "run_control": {
     "frozen": false,
     "read_only": false
    }
   },
   "outputs": [
    {
     "name": "stdout",
     "output_type": "stream",
     "text": [
      "(1, 60, 16)\n",
      "(16,)\n",
      "(16,)\n",
      "(16,)\n",
      "(16,)\n",
      "(16,)\n",
      "(16,)\n",
      "(16,)\n",
      "(16,)\n",
      "(16,)\n",
      "(16,)\n",
      "(16,)\n",
      "(16,)\n",
      "(16,)\n",
      "(16,)\n",
      "(16,)\n",
      "(16,)\n",
      "(16,)\n",
      "(16,)\n",
      "(16,)\n",
      "(16,)\n",
      "(16,)\n",
      "(16,)\n",
      "(16,)\n",
      "(16,)\n",
      "(16,)\n",
      "(16,)\n",
      "(16,)\n",
      "(16,)\n"
     ]
    },
    {
     "data": {
      "text/plain": [
       "(28, 16)"
      ]
     },
     "execution_count": 7,
     "metadata": {},
     "output_type": "execute_result"
    }
   ],
   "source": [
    "hist = X_test[0,:,:].reshape(1,60,-1)\n",
    "print(hist.shape)\n",
    "res = generate_prediction(hist, model, maxlen=MAXLEN,input_size=INPUT_SIZE,output_size=OUTPUT_SIZE)\n",
    "res.shape"
   ]
  },
  {
   "cell_type": "code",
   "execution_count": 8,
   "metadata": {
    "ExecuteTime": {
     "end_time": "2017-03-19T00:37:58.217727",
     "start_time": "2017-03-19T00:37:58.200349"
    },
    "collapsed": false,
    "run_control": {
     "frozen": false,
     "read_only": false
    }
   },
   "outputs": [
    {
     "data": {
      "text/plain": [
       "array([[ 0.01507887,  0.00855533,  0.00410361,  0.01887709,  0.00267123,\n",
       "         0.00618551,  0.00276549,  0.01805389,  0.02351558,  0.0128217 ,\n",
       "         0.00447456,  0.00995257,  0.00633566,  0.00603131,  0.00768144,\n",
       "         0.00162101],\n",
       "       [ 0.01507887,  0.00855533,  0.00410361,  0.01887707,  0.00267123,\n",
       "         0.00618551,  0.00276549,  0.01805389,  0.02351558,  0.0128217 ,\n",
       "         0.00447457,  0.00995256,  0.00633566,  0.00603131,  0.00768143,\n",
       "         0.00162101],\n",
       "       [ 0.01507887,  0.00855533,  0.00410361,  0.01887706,  0.00267123,\n",
       "         0.00618551,  0.00276549,  0.01805389,  0.02351557,  0.0128217 ,\n",
       "         0.00447457,  0.00995256,  0.00633565,  0.00603131,  0.00768143,\n",
       "         0.00162101],\n",
       "       [ 0.01507887,  0.00855533,  0.00410361,  0.01887706,  0.00267123,\n",
       "         0.00618551,  0.00276549,  0.01805389,  0.02351557,  0.01282171,\n",
       "         0.00447457,  0.00995257,  0.00633565,  0.00603131,  0.00768143,\n",
       "         0.00162101],\n",
       "       [ 0.01507887,  0.00855534,  0.00410361,  0.01887706,  0.00267123,\n",
       "         0.00618551,  0.0027655 ,  0.01805389,  0.02351555,  0.01282171,\n",
       "         0.00447458,  0.00995256,  0.00633565,  0.00603131,  0.00768143,\n",
       "         0.00162101],\n",
       "       [ 0.01507887,  0.00855534,  0.00410361,  0.01887706,  0.00267123,\n",
       "         0.00618551,  0.0027655 ,  0.01805389,  0.02351556,  0.01282171,\n",
       "         0.00447458,  0.00995256,  0.00633565,  0.00603131,  0.00768143,\n",
       "         0.00162101],\n",
       "       [ 0.01507887,  0.00855533,  0.00410361,  0.01887706,  0.00267123,\n",
       "         0.00618551,  0.00276549,  0.01805389,  0.02351555,  0.0128217 ,\n",
       "         0.00447458,  0.00995256,  0.00633565,  0.00603131,  0.00768142,\n",
       "         0.00162101],\n",
       "       [ 0.01507887,  0.00855533,  0.00410361,  0.01887705,  0.00267124,\n",
       "         0.00618551,  0.0027655 ,  0.01805389,  0.02351555,  0.01282171,\n",
       "         0.00447458,  0.00995256,  0.00633565,  0.00603131,  0.00768142,\n",
       "         0.00162101],\n",
       "       [ 0.01507887,  0.00855534,  0.00410361,  0.01887705,  0.00267124,\n",
       "         0.00618551,  0.0027655 ,  0.01805389,  0.02351555,  0.0128217 ,\n",
       "         0.00447458,  0.00995256,  0.00633565,  0.00603131,  0.00768142,\n",
       "         0.00162101],\n",
       "       [ 0.01507887,  0.00855534,  0.00410361,  0.01887705,  0.00267124,\n",
       "         0.00618551,  0.0027655 ,  0.01805389,  0.02351555,  0.0128217 ,\n",
       "         0.00447458,  0.00995255,  0.00633565,  0.0060313 ,  0.00768142,\n",
       "         0.00162101],\n",
       "       [ 0.01507887,  0.00855534,  0.00410361,  0.01887705,  0.00267124,\n",
       "         0.00618551,  0.0027655 ,  0.01805389,  0.02351555,  0.0128217 ,\n",
       "         0.00447458,  0.00995255,  0.00633565,  0.0060313 ,  0.00768142,\n",
       "         0.00162101],\n",
       "       [ 0.01507887,  0.00855534,  0.00410361,  0.01887705,  0.00267124,\n",
       "         0.00618551,  0.0027655 ,  0.01805389,  0.02351555,  0.0128217 ,\n",
       "         0.00447458,  0.00995255,  0.00633565,  0.00603131,  0.00768142,\n",
       "         0.00162101],\n",
       "       [ 0.01507887,  0.00855534,  0.00410361,  0.01887705,  0.00267124,\n",
       "         0.00618551,  0.0027655 ,  0.01805389,  0.02351555,  0.0128217 ,\n",
       "         0.00447458,  0.00995255,  0.00633565,  0.0060313 ,  0.00768142,\n",
       "         0.00162101],\n",
       "       [ 0.01507887,  0.00855534,  0.00410361,  0.01887705,  0.00267124,\n",
       "         0.00618551,  0.0027655 ,  0.01805389,  0.02351555,  0.0128217 ,\n",
       "         0.00447458,  0.00995255,  0.00633565,  0.0060313 ,  0.00768142,\n",
       "         0.00162101],\n",
       "       [ 0.01507887,  0.00855534,  0.00410361,  0.01887704,  0.00267124,\n",
       "         0.00618551,  0.0027655 ,  0.01805389,  0.02351555,  0.0128217 ,\n",
       "         0.00447458,  0.00995255,  0.00633565,  0.00603131,  0.00768142,\n",
       "         0.00162101],\n",
       "       [ 0.01507887,  0.00855534,  0.00410361,  0.01887704,  0.00267124,\n",
       "         0.00618551,  0.0027655 ,  0.0180539 ,  0.02351555,  0.0128217 ,\n",
       "         0.00447458,  0.00995255,  0.00633565,  0.0060313 ,  0.00768142,\n",
       "         0.00162101],\n",
       "       [ 0.01507887,  0.00855534,  0.00410361,  0.01887704,  0.00267124,\n",
       "         0.00618551,  0.0027655 ,  0.0180539 ,  0.02351555,  0.0128217 ,\n",
       "         0.00447458,  0.00995255,  0.00633565,  0.0060313 ,  0.00768142,\n",
       "         0.00162101],\n",
       "       [ 0.01507887,  0.00855534,  0.00410361,  0.01887704,  0.00267124,\n",
       "         0.00618551,  0.0027655 ,  0.0180539 ,  0.02351555,  0.0128217 ,\n",
       "         0.00447458,  0.00995255,  0.00633565,  0.0060313 ,  0.00768142,\n",
       "         0.00162101],\n",
       "       [ 0.01507887,  0.00855534,  0.00410361,  0.01887704,  0.00267124,\n",
       "         0.00618551,  0.0027655 ,  0.0180539 ,  0.02351555,  0.0128217 ,\n",
       "         0.00447458,  0.00995255,  0.00633565,  0.0060313 ,  0.00768142,\n",
       "         0.00162101],\n",
       "       [ 0.01507887,  0.00855534,  0.00410361,  0.01887704,  0.00267124,\n",
       "         0.00618551,  0.0027655 ,  0.0180539 ,  0.02351555,  0.0128217 ,\n",
       "         0.00447458,  0.00995255,  0.00633565,  0.0060313 ,  0.00768142,\n",
       "         0.00162101],\n",
       "       [ 0.01507887,  0.00855534,  0.00410361,  0.01887704,  0.00267124,\n",
       "         0.00618551,  0.0027655 ,  0.0180539 ,  0.02351555,  0.0128217 ,\n",
       "         0.00447458,  0.00995255,  0.00633565,  0.0060313 ,  0.00768142,\n",
       "         0.00162101],\n",
       "       [ 0.01507887,  0.00855534,  0.00410361,  0.01887704,  0.00267124,\n",
       "         0.00618551,  0.0027655 ,  0.0180539 ,  0.02351555,  0.0128217 ,\n",
       "         0.00447458,  0.00995255,  0.00633565,  0.0060313 ,  0.00768142,\n",
       "         0.00162101],\n",
       "       [ 0.01507887,  0.00855534,  0.00410361,  0.01887704,  0.00267124,\n",
       "         0.00618551,  0.0027655 ,  0.0180539 ,  0.02351555,  0.0128217 ,\n",
       "         0.00447458,  0.00995255,  0.00633565,  0.0060313 ,  0.00768142,\n",
       "         0.00162101],\n",
       "       [ 0.01507887,  0.00855534,  0.00410361,  0.01887704,  0.00267124,\n",
       "         0.00618551,  0.0027655 ,  0.0180539 ,  0.02351555,  0.0128217 ,\n",
       "         0.00447458,  0.00995255,  0.00633565,  0.0060313 ,  0.00768142,\n",
       "         0.00162101],\n",
       "       [ 0.01507887,  0.00855534,  0.00410361,  0.01887704,  0.00267124,\n",
       "         0.00618551,  0.0027655 ,  0.0180539 ,  0.02351555,  0.0128217 ,\n",
       "         0.00447458,  0.00995255,  0.00633565,  0.0060313 ,  0.00768142,\n",
       "         0.00162101],\n",
       "       [ 0.01507887,  0.00855534,  0.00410361,  0.01887704,  0.00267124,\n",
       "         0.00618551,  0.0027655 ,  0.0180539 ,  0.02351555,  0.0128217 ,\n",
       "         0.00447459,  0.00995255,  0.00633565,  0.0060313 ,  0.00768142,\n",
       "         0.00162101],\n",
       "       [ 0.01507887,  0.00855534,  0.00410361,  0.01887704,  0.00267124,\n",
       "         0.00618551,  0.0027655 ,  0.0180539 ,  0.02351555,  0.0128217 ,\n",
       "         0.00447459,  0.00995255,  0.00633565,  0.0060313 ,  0.00768142,\n",
       "         0.00162101],\n",
       "       [ 0.01507887,  0.00855534,  0.00410361,  0.01887704,  0.00267124,\n",
       "         0.00618551,  0.0027655 ,  0.0180539 ,  0.02351557,  0.0128217 ,\n",
       "         0.00447459,  0.00995255,  0.00633565,  0.0060313 ,  0.00768142,\n",
       "         0.00162101]])"
      ]
     },
     "execution_count": 8,
     "metadata": {},
     "output_type": "execute_result"
    }
   ],
   "source": [
    "res[:,:OUTPUT_SIZE]"
   ]
  },
  {
   "cell_type": "code",
   "execution_count": 9,
   "metadata": {
    "ExecuteTime": {
     "end_time": "2017-03-19T00:38:04.869501",
     "start_time": "2017-03-19T00:38:04.851377"
    },
    "collapsed": false,
    "run_control": {
     "frozen": false,
     "read_only": false
    }
   },
   "outputs": [
    {
     "data": {
      "text/plain": [
       "array([[0, 0, 0, 0, 0, 0, 0, 0, 0, 0, 0, 0, 0, 0, 0, 0],\n",
       "       [0, 0, 0, 0, 0, 0, 0, 0, 0, 0, 0, 0, 0, 0, 0, 0],\n",
       "       [0, 0, 0, 0, 0, 0, 0, 0, 0, 0, 0, 0, 0, 0, 0, 0],\n",
       "       [0, 0, 0, 0, 0, 0, 0, 0, 0, 0, 0, 0, 0, 0, 0, 0],\n",
       "       [0, 0, 0, 0, 0, 0, 0, 0, 0, 0, 0, 0, 0, 0, 0, 0],\n",
       "       [0, 0, 0, 0, 0, 0, 0, 0, 0, 0, 0, 0, 0, 0, 0, 0],\n",
       "       [0, 0, 0, 0, 0, 0, 0, 0, 0, 0, 0, 0, 0, 0, 0, 0],\n",
       "       [0, 0, 0, 0, 0, 0, 0, 0, 0, 0, 0, 0, 0, 0, 0, 0],\n",
       "       [0, 0, 0, 0, 0, 0, 0, 0, 0, 0, 0, 0, 0, 0, 0, 0],\n",
       "       [0, 0, 0, 0, 0, 0, 0, 0, 0, 0, 0, 0, 0, 0, 0, 0],\n",
       "       [0, 0, 0, 0, 0, 0, 0, 0, 0, 0, 0, 0, 0, 0, 0, 0],\n",
       "       [0, 0, 0, 0, 0, 0, 0, 0, 0, 0, 0, 0, 0, 0, 0, 0],\n",
       "       [0, 0, 0, 0, 0, 0, 0, 0, 0, 0, 0, 0, 0, 0, 0, 0],\n",
       "       [0, 0, 0, 1, 0, 0, 0, 0, 1, 0, 0, 0, 0, 0, 0, 0],\n",
       "       [0, 0, 0, 0, 0, 0, 0, 0, 0, 0, 0, 0, 0, 0, 0, 0],\n",
       "       [0, 0, 0, 0, 0, 0, 0, 0, 0, 0, 0, 0, 0, 0, 0, 0],\n",
       "       [0, 0, 0, 0, 0, 0, 0, 0, 0, 0, 0, 0, 0, 0, 0, 0],\n",
       "       [0, 0, 0, 0, 0, 0, 0, 0, 0, 0, 0, 0, 0, 0, 0, 0],\n",
       "       [0, 0, 0, 0, 0, 0, 0, 0, 0, 0, 0, 0, 0, 0, 0, 0],\n",
       "       [0, 0, 0, 0, 0, 0, 0, 0, 0, 0, 0, 0, 0, 0, 0, 0],\n",
       "       [0, 0, 0, 0, 0, 0, 0, 0, 0, 0, 0, 0, 0, 0, 0, 0],\n",
       "       [0, 0, 0, 0, 0, 0, 0, 0, 0, 0, 0, 0, 0, 0, 0, 0],\n",
       "       [0, 0, 0, 0, 0, 0, 0, 0, 0, 0, 0, 0, 0, 0, 0, 0],\n",
       "       [0, 0, 0, 0, 0, 0, 0, 0, 0, 0, 0, 0, 0, 0, 0, 0],\n",
       "       [0, 0, 1, 0, 0, 0, 0, 1, 1, 0, 0, 1, 0, 0, 0, 0],\n",
       "       [0, 0, 0, 0, 0, 0, 0, 0, 0, 0, 0, 0, 0, 0, 0, 0],\n",
       "       [0, 0, 0, 0, 0, 0, 0, 0, 0, 0, 0, 0, 0, 0, 0, 0],\n",
       "       [0, 0, 0, 0, 0, 0, 0, 0, 0, 0, 0, 0, 0, 0, 0, 0]])"
      ]
     },
     "execution_count": 9,
     "metadata": {},
     "output_type": "execute_result"
    }
   ],
   "source": [
    "y_test[:28,:OUTPUT_SIZE]"
   ]
  }
 ],
 "metadata": {
  "anaconda-cloud": {},
  "kernelspec": {
   "display_name": "Python 3",
   "language": "python",
   "name": "python3"
  },
  "language_info": {
   "codemirror_mode": {
    "name": "ipython",
    "version": 3
   },
   "file_extension": ".py",
   "mimetype": "text/x-python",
   "name": "python",
   "nbconvert_exporter": "python",
   "pygments_lexer": "ipython3",
   "version": "3.5.2"
  }
 },
 "nbformat": 4,
 "nbformat_minor": 1
}
