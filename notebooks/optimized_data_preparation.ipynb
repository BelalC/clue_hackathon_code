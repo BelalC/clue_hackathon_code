{
 "cells": [
  {
   "cell_type": "code",
   "execution_count": 1,
   "metadata": {
    "ExecuteTime": {
     "end_time": "2017-03-21T01:28:39.583199",
     "start_time": "2017-03-21T01:28:39.573302"
    },
    "collapsed": true,
    "run_control": {
     "frozen": false,
     "read_only": false
    }
   },
   "outputs": [],
   "source": [
    "import warnings\n",
    "warnings.filterwarnings('ignore')"
   ]
  },
  {
   "cell_type": "code",
   "execution_count": 2,
   "metadata": {
    "ExecuteTime": {
     "end_time": "2017-03-21T01:28:46.524388",
     "start_time": "2017-03-21T01:28:39.902204"
    },
    "collapsed": false,
    "run_control": {
     "frozen": false,
     "read_only": false
    }
   },
   "outputs": [],
   "source": [
    "%run ../prepare_data.py -N_users 0"
   ]
  },
  {
   "cell_type": "code",
   "execution_count": 4,
   "metadata": {
    "ExecuteTime": {
     "end_time": "2017-03-21T01:36:05.948915",
     "start_time": "2017-03-21T01:28:58.253035"
    },
    "collapsed": true
   },
   "outputs": [],
   "source": [
    "import joblib\n",
    "\n",
    "try:\n",
    "    cycles_processed = joblib.load(\"../data/cycles_processed.pkl.gz\")\n",
    "except:\n",
    "    cycles_processed = pd.concat([expand_cycle(cycle) for _, cycle in cycles.iterrows()])\n",
    "    joblib.dump(cycles_processed, \"../data/cycles_processed.pkl.gz\")\n",
    "    \n",
    "# One hot encode the symptoms\n",
    "tracking_processed = pd.get_dummies(\n",
    "    tracking[[\"user_id\", \"date\", \"symptom\"]],\n",
    "    columns=['symptom'], prefix='', prefix_sep=''\n",
    ")\n",
    "\n",
    "#Aggregate symptoms per day\n",
    "tracking_processed = tracking_processed.groupby(['user_id', 'date']).sum()[list_of_symptoms]\n",
    "\n",
    "training = pd.merge(cycles_processed, tracking_processed, left_index=True, right_index=True, how='outer').fillna(0)"
   ]
  }
 ],
 "metadata": {
  "anaconda-cloud": {},
  "kernelspec": {
   "display_name": "Python 3",
   "language": "python",
   "name": "python3"
  },
  "language_info": {
   "codemirror_mode": {
    "name": "ipython",
    "version": 3
   },
   "file_extension": ".py",
   "mimetype": "text/x-python",
   "name": "python",
   "nbconvert_exporter": "python",
   "pygments_lexer": "ipython3",
   "version": "3.5.2"
  }
 },
 "nbformat": 4,
 "nbformat_minor": 2
}
